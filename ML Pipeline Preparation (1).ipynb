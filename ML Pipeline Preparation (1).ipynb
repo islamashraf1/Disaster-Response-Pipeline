{
 "cells": [
  {
   "cell_type": "markdown",
   "metadata": {},
   "source": [
    "# ML Pipeline Preparation\n",
    "Follow the instructions below to help you create your ML pipeline.\n",
    "### 1. Import libraries and load data from database.\n",
    "- Import Python libraries\n",
    "- Load dataset from database with [`read_sql_table`](https://pandas.pydata.org/pandas-docs/stable/generated/pandas.read_sql_table.html)\n",
    "- Define feature and target variables X and Y"
   ]
  },
  {
   "cell_type": "code",
   "execution_count": 1,
   "metadata": {},
   "outputs": [
    {
     "name": "stdout",
     "output_type": "stream",
     "text": [
      "[nltk_data] Downloading package punkt to /root/nltk_data...\n",
      "[nltk_data]   Package punkt is already up-to-date!\n",
      "[nltk_data] Downloading package wordnet to /root/nltk_data...\n",
      "[nltk_data]   Package wordnet is already up-to-date!\n",
      "[nltk_data] Downloading package averaged_perceptron_tagger to\n",
      "[nltk_data]     /root/nltk_data...\n",
      "[nltk_data]   Package averaged_perceptron_tagger is already up-to-\n",
      "[nltk_data]       date!\n",
      "[nltk_data] Downloading package stopwords to /root/nltk_data...\n",
      "[nltk_data]   Package stopwords is already up-to-date!\n"
     ]
    }
   ],
   "source": [
    "# import libraries\n",
    "import nltk\n",
    "nltk.download(['punkt', 'wordnet', 'averaged_perceptron_tagger','stopwords'])\n",
    "import pandas as pd\n",
    "import numpy as np\n",
    "import matplotlib.pyplot as plt\n",
    "import sqlite3\n",
    "from sqlalchemy import create_engine\n",
    "import re\n",
    "from nltk.corpus import stopwords\n",
    "from nltk.tokenize import word_tokenize,sent_tokenize\n",
    "from nltk.stem.wordnet import WordNetLemmatizer\n",
    "from sklearn.base import BaseEstimator,TransformerMixin\n",
    "from sklearn.feature_extraction.text import CountVectorizer, TfidfTransformer\n",
    "from sklearn.pipeline import Pipeline, FeatureUnion\n",
    "from sklearn.model_selection import GridSearchCV\n",
    "from sklearn.multioutput import MultiOutputClassifier\n",
    "from sklearn.ensemble import RandomForestClassifier\n",
    "from sklearn.model_selection import train_test_split\n",
    "from sklearn.svm import SVC\n",
    "from sklearn.metrics import classification_report,confusion_matrix, f1_score ,precision_score , accuracy_score,recall_score "
   ]
  },
  {
   "cell_type": "code",
   "execution_count": null,
   "metadata": {},
   "outputs": [],
   "source": []
  },
  {
   "cell_type": "code",
   "execution_count": 2,
   "metadata": {},
   "outputs": [],
   "source": [
    "# load data from database\n",
    "conn = sqlite3.connect('database.db')\n",
    "#engine = create_engine('sqlite:///InsertDatabaseName.db')\n",
    "df = pd.read_sql('SELECT * FROM msgs_cat ', con = conn)\n",
    "\n",
    "X = df['message'].values\n",
    "Y = df.iloc[:,4:].values"
   ]
  },
  {
   "cell_type": "markdown",
   "metadata": {},
   "source": [
    "### 2. Write a tokenization function to process your text data"
   ]
  },
  {
   "cell_type": "code",
   "execution_count": 3,
   "metadata": {},
   "outputs": [],
   "source": [
    "url_regex = 'http[s]?://(?:[a-zA-Z]|[0-9]|[$-_@.&+]|[!*\\(\\),]|(?:%[0-9a-fA-F][0-9a-fA-F]))+'\n",
    "\n",
    "def tokenize(text):\n",
    "    detected_urls = re.findall(url_regex, text)\n",
    "    for url in detected_urls:\n",
    "        text = text.replace(url, \"urlplaceholder\")\n",
    "    #text = re.sub(r\"[^a-zA-Z0-9]\", \" \", text.lower())\n",
    "    tokens = word_tokenize(text)\n",
    "    lemmatizer = WordNetLemmatizer()\n",
    "    stop_words = stopwords.words(\"english\")\n",
    "   \n",
    "    clean_tokens = []\n",
    "    for tok in tokens:\n",
    "        clean_tok = lemmatizer.lemmatize(tok,pos='v').lower().strip()\n",
    "       # if clean_tok not in stop_words:\n",
    "        clean_tokens.append(clean_tok)\n",
    "\n",
    "    return clean_tokens"
   ]
  },
  {
   "cell_type": "markdown",
   "metadata": {},
   "source": [
    "### 3. Build a machine learning pipeline\n",
    "This machine pipeline should take in the `message` column as input and output classification results on the other 36 categories in the dataset. You may find the [MultiOutputClassifier](http://scikit-learn.org/stable/modules/generated/sklearn.multioutput.MultiOutputClassifier.html) helpful for predicting multiple target variables."
   ]
  },
  {
   "cell_type": "code",
   "execution_count": 4,
   "metadata": {},
   "outputs": [
    {
     "name": "stdout",
     "output_type": "stream",
     "text": [
      "[nltk_data] Downloading package punkt to /root/nltk_data...\n",
      "[nltk_data]   Package punkt is already up-to-date!\n",
      "[nltk_data] Downloading package wordnet to /root/nltk_data...\n",
      "[nltk_data]   Package wordnet is already up-to-date!\n",
      "[nltk_data] Downloading package averaged_perceptron_tagger to\n",
      "[nltk_data]     /root/nltk_data...\n",
      "[nltk_data]   Package averaged_perceptron_tagger is already up-to-\n",
      "[nltk_data]       date!\n"
     ]
    }
   ],
   "source": [
    "import nltk\n",
    "nltk.download(['punkt', 'wordnet', 'averaged_perceptron_tagger'])\n",
    "\n",
    "import re\n",
    "import pandas as pd\n",
    "from nltk.tokenize import word_tokenize\n",
    "from nltk.stem import WordNetLemmatizer\n",
    "from sklearn.base import BaseEstimator, TransformerMixin\n",
    "\n",
    "class StartingVerbExtractor(BaseEstimator, TransformerMixin):\n",
    "    \n",
    "\n",
    "    def tokenizee(self,text):\n",
    "        url_regex = 'http[s]?://(?:[a-zA-Z]|[0-9]|[$-_@.&+]|[!*\\(\\),]|(?:%[0-9a-fA-F][0-9a-fA-F]))+'\n",
    "        detected_urls = re.findall(url_regex, text)\n",
    "        try:\n",
    "            for url in detected_urls:\n",
    "                text = text.replace(url, \"urlplaceholder\")\n",
    "            text = re.sub(r\"[^a-zA-Z0-9]\", \" \", text.lower())\n",
    "            tokens = word_tokenize(text)\n",
    "        except:\n",
    "            print('1failed\\n\\n')\n",
    "        lemmatizer = WordNetLemmatizer()\n",
    "        try:\n",
    "            clean_tokens = []\n",
    "            for tok in tokens:\n",
    "                clean_tok = lemmatizer.lemmatize(tok).lower().strip()\n",
    "                clean_tokens.append(clean_tok)\n",
    "        except:\n",
    "            print('2failed\\n\\n')\n",
    "        return clean_tokens\n",
    "    \n",
    "    def starting_verb(self, text):\n",
    "        \n",
    "        sentence_list = nltk.sent_tokenize(text)\n",
    "        for sentence in sentence_list:\n",
    "            \n",
    "            \n",
    "            try:\n",
    "                s=self.tokenizee(sentence)\n",
    "                if len(s)>0:\n",
    "                    pos_tags = nltk.pos_tag(s)\n",
    "                    #print(pos_tags)\n",
    "                    first_word, first_tag = pos_tags[0]\n",
    "                    if first_tag in ['VB', 'VBP'] or first_word == 'rt':\n",
    "                        return True\n",
    "                    else:\n",
    "                        return False\n",
    "                else:\n",
    "                    return False\n",
    "            except: \n",
    "                try:\n",
    "                    print(str(sentence)+'\\n\\n')\n",
    "                    print(str(self.tokenizee(sentence))+'\\n\\n')\n",
    "                    print('postags12  '+str(nltk.pos_tag(clean_tokens))+'\\n\\n')\n",
    "                    print('postags22  '+ str(pos_tags)+'\\n\\n')\n",
    "                    print('postags  '+ str(pos_tags[0])+'\\n\\n')\n",
    "                except: print('non\\n\\n')\n",
    "                return False\n",
    "                \n",
    "\n",
    "    def fit(self, x, y=None):\n",
    "        return self\n",
    "\n",
    "    def transform(self, X):\n",
    "        X_tagged = pd.Series(X).apply(self.starting_verb).fillna(False).values\n",
    "        \n",
    "        return np.array(X_tagged).reshape(-1,1).astype(float)"
   ]
  },
  {
   "cell_type": "code",
   "execution_count": 5,
   "metadata": {},
   "outputs": [],
   "source": [
    "pipeline2 = Pipeline([\n",
    "    ('features', FeatureUnion([\n",
    "\n",
    "        ('text_pipeline', Pipeline([\n",
    "            ('vect', CountVectorizer(tokenizer=tokenize)),\n",
    "            ('tfidf', TfidfTransformer())\n",
    "        ])),\n",
    "\n",
    "        ('starting_verb', StartingVerbExtractor())\n",
    "    ])),\n",
    "\n",
    "    ('clf', MultiOutputClassifier(RandomForestClassifier()))\n",
    "])\n",
    "\n",
    "pipeline = Pipeline([\n",
    "    ('vect', CountVectorizer(tokenizer=tokenize)),\n",
    "    ('tfidf', TfidfTransformer()),\n",
    "    ('clf', MultiOutputClassifier(SVC()))\n",
    "])"
   ]
  },
  {
   "cell_type": "markdown",
   "metadata": {},
   "source": [
    "### 4. Train pipeline\n",
    "- Split data into train and test sets\n",
    "- Train pipeline"
   ]
  },
  {
   "cell_type": "code",
   "execution_count": 7,
   "metadata": {},
   "outputs": [],
   "source": [
    "x_train, x_test, y_train, y_test = train_test_split(X,Y,test_size=0.2,random_state=42)"
   ]
  },
  {
   "cell_type": "code",
   "execution_count": 16,
   "metadata": {},
   "outputs": [],
   "source": [
    "\n",
    "pipeline2.fit(x_train,y_train)\n",
    "y_pred = pipeline2.predict(x_test)\n"
   ]
  },
  {
   "cell_type": "markdown",
   "metadata": {},
   "source": [
    "### 5. Test your model\n",
    "Report the f1 score, precision and recall for each output category of the dataset. You can do this by iterating through the columns and calling sklearn's `classification_report` on each."
   ]
  },
  {
   "cell_type": "code",
   "execution_count": 60,
   "metadata": {},
   "outputs": [],
   "source": [
    "\n",
    "def evaluate(y_test,y_pred,df):\n",
    "    result = []\n",
    "    for i in range(len(df.columns[4:])):\n",
    "        f1score = f1_score(y_test[:,i],y_pred[:,i])\n",
    "        precision = precision_score(y_test[:,i],y_pred[:,i])\n",
    "        recall = recall_score(y_test[:,i],y_pred[:,i])\n",
    "        col_name = df.columns[i+4]\n",
    "        result.append([col_name,f1score,precision,recall])\n",
    "    results = pd.DataFrame(result,columns=['col_name','f1score','precision','recall'])\n",
    "    \n",
    "    print(results)"
   ]
  },
  {
   "cell_type": "code",
   "execution_count": 61,
   "metadata": {},
   "outputs": [
    {
     "name": "stdout",
     "output_type": "stream",
     "text": [
      "                  col_name   f1score  precision    recall\n",
      "0                  related  0.871112   0.823385  0.924712\n",
      "1                  request  0.490596   0.812987  0.351291\n",
      "2                    offer  0.000000   0.000000  0.000000\n",
      "3              aid_related  0.614415   0.754882  0.518022\n",
      "4             medical_help  0.137500   0.733333  0.075862\n",
      "5         medical_products  0.093960   0.736842  0.050179\n",
      "6        search_and_rescue  0.079470   0.400000  0.044118\n",
      "7                 security  0.000000   0.000000  0.000000\n",
      "8                 military  0.146067   0.650000  0.082278\n",
      "9              child_alone  0.000000   0.000000  0.000000\n",
      "10                   water  0.480519   0.874016  0.331343\n",
      "11                    food  0.414062   0.864130  0.272260\n",
      "12                 shelter  0.320690   0.830357  0.198718\n",
      "13                clothing  0.150000   0.600000  0.085714\n",
      "14                   money  0.068966   1.000000  0.035714\n",
      "15          missing_people  0.030769   0.500000  0.015873\n",
      "16                refugees  0.128342   0.705882  0.070588\n",
      "17                   death  0.201439   0.903226  0.113360\n",
      "18               other_aid  0.069799   0.490566  0.037572\n",
      "19  infrastructure_related  0.000000   0.000000  0.000000\n",
      "20               transport  0.145594   0.730769  0.080851\n",
      "21               buildings  0.147157   0.733333  0.081784\n",
      "22             electricity  0.082645   0.833333  0.043478\n",
      "23                   tools  0.000000   0.000000  0.000000\n",
      "24               hospitals  0.000000   0.000000  0.000000\n",
      "25                   shops  0.000000   0.000000  0.000000\n",
      "26             aid_centers  0.000000   0.000000  0.000000\n",
      "27    other_infrastructure  0.000000   0.000000  0.000000\n",
      "28         weather_related  0.622466   0.822545  0.500679\n",
      "29                  floods  0.391304   0.892562  0.250580\n",
      "30                   storm  0.367089   0.758170  0.242171\n",
      "31                    fire  0.000000   0.000000  0.000000\n",
      "32              earthquake  0.631841   0.878893  0.493204\n",
      "33                    cold  0.170940   0.769231  0.096154\n",
      "34           other_weather  0.036232   0.555556  0.018727\n",
      "35           direct_report  0.423851   0.772251  0.292079\n"
     ]
    },
    {
     "name": "stderr",
     "output_type": "stream",
     "text": [
      "/opt/conda/lib/python3.6/site-packages/sklearn/metrics/classification.py:1135: UndefinedMetricWarning: F-score is ill-defined and being set to 0.0 due to no predicted samples.\n",
      "  'precision', 'predicted', average, warn_for)\n",
      "/opt/conda/lib/python3.6/site-packages/sklearn/metrics/classification.py:1135: UndefinedMetricWarning: Precision is ill-defined and being set to 0.0 due to no predicted samples.\n",
      "  'precision', 'predicted', average, warn_for)\n"
     ]
    }
   ],
   "source": [
    "evaluate(y_test,y_pred,df)"
   ]
  },
  {
   "cell_type": "code",
   "execution_count": 20,
   "metadata": {},
   "outputs": [
    {
     "data": {
      "text/plain": [
       "array(['related', 'request', 'offer', 'aid_related', 'medical_help',\n",
       "       'medical_products', 'search_and_rescue', 'security', 'military',\n",
       "       'child_alone', 'water', 'food', 'shelter', 'clothing', 'money',\n",
       "       'missing_people', 'refugees', 'death', 'other_aid',\n",
       "       'infrastructure_related', 'transport', 'buildings', 'electricity',\n",
       "       'tools', 'hospitals', 'shops', 'aid_centers',\n",
       "       'other_infrastructure', 'weather_related', 'floods', 'storm',\n",
       "       'fire', 'earthquake', 'cold', 'other_weather', 'direct_report'], dtype=object)"
      ]
     },
     "execution_count": 20,
     "metadata": {},
     "output_type": "execute_result"
    }
   ],
   "source": [
    "df.columns[4:].values"
   ]
  },
  {
   "cell_type": "markdown",
   "metadata": {},
   "source": [
    "### 6. Improve your model\n",
    "Use grid search to find better parameters. "
   ]
  },
  {
   "cell_type": "code",
   "execution_count": 21,
   "metadata": {},
   "outputs": [
    {
     "data": {
      "text/plain": [
       "{'memory': None, 'steps': [('features', FeatureUnion(n_jobs=1,\n",
       "          transformer_list=[('text_pipeline', Pipeline(memory=None,\n",
       "        steps=[('vect', CountVectorizer(analyzer='word', binary=False, decode_error='strict',\n",
       "           dtype=<class 'numpy.int64'>, encoding='utf-8', input='content',\n",
       "           lowercase=True, max_df=1.0, max_features=None, min_df=1,\n",
       "           ngram_... smooth_idf=True, sublinear_tf=False, use_idf=True))])), ('starting_verb', StartingVerbExtractor())],\n",
       "          transformer_weights=None)),\n",
       "  ('clf',\n",
       "   MultiOutputClassifier(estimator=RandomForestClassifier(bootstrap=True, class_weight=None, criterion='gini',\n",
       "               max_depth=None, max_features='auto', max_leaf_nodes=None,\n",
       "               min_impurity_decrease=0.0, min_impurity_split=None,\n",
       "               min_samples_leaf=1, min_samples_split=2,\n",
       "               min_weight_fraction_leaf=0.0, n_estimators=10, n_jobs=1,\n",
       "               oob_score=False, random_state=None, verbose=0,\n",
       "               warm_start=False),\n",
       "              n_jobs=1))], 'features': FeatureUnion(n_jobs=1,\n",
       "        transformer_list=[('text_pipeline', Pipeline(memory=None,\n",
       "      steps=[('vect', CountVectorizer(analyzer='word', binary=False, decode_error='strict',\n",
       "         dtype=<class 'numpy.int64'>, encoding='utf-8', input='content',\n",
       "         lowercase=True, max_df=1.0, max_features=None, min_df=1,\n",
       "         ngram_... smooth_idf=True, sublinear_tf=False, use_idf=True))])), ('starting_verb', StartingVerbExtractor())],\n",
       "        transformer_weights=None), 'clf': MultiOutputClassifier(estimator=RandomForestClassifier(bootstrap=True, class_weight=None, criterion='gini',\n",
       "             max_depth=None, max_features='auto', max_leaf_nodes=None,\n",
       "             min_impurity_decrease=0.0, min_impurity_split=None,\n",
       "             min_samples_leaf=1, min_samples_split=2,\n",
       "             min_weight_fraction_leaf=0.0, n_estimators=10, n_jobs=1,\n",
       "             oob_score=False, random_state=None, verbose=0,\n",
       "             warm_start=False),\n",
       "            n_jobs=1), 'features__n_jobs': 1, 'features__transformer_list': [('text_pipeline',\n",
       "   Pipeline(memory=None,\n",
       "        steps=[('vect', CountVectorizer(analyzer='word', binary=False, decode_error='strict',\n",
       "           dtype=<class 'numpy.int64'>, encoding='utf-8', input='content',\n",
       "           lowercase=True, max_df=1.0, max_features=None, min_df=1,\n",
       "           ngram_range=(1, 1), preprocessor=None, stop_words=None,\n",
       "           strip...y=None)), ('tfidf', TfidfTransformer(norm='l2', smooth_idf=True, sublinear_tf=False, use_idf=True))])),\n",
       "  ('starting_verb',\n",
       "   StartingVerbExtractor())], 'features__transformer_weights': None, 'features__text_pipeline': Pipeline(memory=None,\n",
       "      steps=[('vect', CountVectorizer(analyzer='word', binary=False, decode_error='strict',\n",
       "         dtype=<class 'numpy.int64'>, encoding='utf-8', input='content',\n",
       "         lowercase=True, max_df=1.0, max_features=None, min_df=1,\n",
       "         ngram_range=(1, 1), preprocessor=None, stop_words=None,\n",
       "         strip...y=None)), ('tfidf', TfidfTransformer(norm='l2', smooth_idf=True, sublinear_tf=False, use_idf=True))]), 'features__starting_verb': StartingVerbExtractor(), 'features__text_pipeline__memory': None, 'features__text_pipeline__steps': [('vect',\n",
       "   CountVectorizer(analyzer='word', binary=False, decode_error='strict',\n",
       "           dtype=<class 'numpy.int64'>, encoding='utf-8', input='content',\n",
       "           lowercase=True, max_df=1.0, max_features=None, min_df=1,\n",
       "           ngram_range=(1, 1), preprocessor=None, stop_words=None,\n",
       "           strip_accents=None, token_pattern='(?u)\\\\b\\\\w\\\\w+\\\\b',\n",
       "           tokenizer=<function tokenize at 0x7fb3d804d8c8>, vocabulary=None)),\n",
       "  ('tfidf',\n",
       "   TfidfTransformer(norm='l2', smooth_idf=True, sublinear_tf=False, use_idf=True))], 'features__text_pipeline__vect': CountVectorizer(analyzer='word', binary=False, decode_error='strict',\n",
       "         dtype=<class 'numpy.int64'>, encoding='utf-8', input='content',\n",
       "         lowercase=True, max_df=1.0, max_features=None, min_df=1,\n",
       "         ngram_range=(1, 1), preprocessor=None, stop_words=None,\n",
       "         strip_accents=None, token_pattern='(?u)\\\\b\\\\w\\\\w+\\\\b',\n",
       "         tokenizer=<function tokenize at 0x7fb3d804d8c8>, vocabulary=None), 'features__text_pipeline__tfidf': TfidfTransformer(norm='l2', smooth_idf=True, sublinear_tf=False, use_idf=True), 'features__text_pipeline__vect__analyzer': 'word', 'features__text_pipeline__vect__binary': False, 'features__text_pipeline__vect__decode_error': 'strict', 'features__text_pipeline__vect__dtype': numpy.int64, 'features__text_pipeline__vect__encoding': 'utf-8', 'features__text_pipeline__vect__input': 'content', 'features__text_pipeline__vect__lowercase': True, 'features__text_pipeline__vect__max_df': 1.0, 'features__text_pipeline__vect__max_features': None, 'features__text_pipeline__vect__min_df': 1, 'features__text_pipeline__vect__ngram_range': (1,\n",
       "  1), 'features__text_pipeline__vect__preprocessor': None, 'features__text_pipeline__vect__stop_words': None, 'features__text_pipeline__vect__strip_accents': None, 'features__text_pipeline__vect__token_pattern': '(?u)\\\\b\\\\w\\\\w+\\\\b', 'features__text_pipeline__vect__tokenizer': <function __main__.tokenize(text)>, 'features__text_pipeline__vect__vocabulary': None, 'features__text_pipeline__tfidf__norm': 'l2', 'features__text_pipeline__tfidf__smooth_idf': True, 'features__text_pipeline__tfidf__sublinear_tf': False, 'features__text_pipeline__tfidf__use_idf': True, 'clf__estimator__bootstrap': True, 'clf__estimator__class_weight': None, 'clf__estimator__criterion': 'gini', 'clf__estimator__max_depth': None, 'clf__estimator__max_features': 'auto', 'clf__estimator__max_leaf_nodes': None, 'clf__estimator__min_impurity_decrease': 0.0, 'clf__estimator__min_impurity_split': None, 'clf__estimator__min_samples_leaf': 1, 'clf__estimator__min_samples_split': 2, 'clf__estimator__min_weight_fraction_leaf': 0.0, 'clf__estimator__n_estimators': 10, 'clf__estimator__n_jobs': 1, 'clf__estimator__oob_score': False, 'clf__estimator__random_state': None, 'clf__estimator__verbose': 0, 'clf__estimator__warm_start': False, 'clf__estimator': RandomForestClassifier(bootstrap=True, class_weight=None, criterion='gini',\n",
       "             max_depth=None, max_features='auto', max_leaf_nodes=None,\n",
       "             min_impurity_decrease=0.0, min_impurity_split=None,\n",
       "             min_samples_leaf=1, min_samples_split=2,\n",
       "             min_weight_fraction_leaf=0.0, n_estimators=10, n_jobs=1,\n",
       "             oob_score=False, random_state=None, verbose=0,\n",
       "             warm_start=False), 'clf__n_jobs': 1}"
      ]
     },
     "execution_count": 21,
     "metadata": {},
     "output_type": "execute_result"
    }
   ],
   "source": [
    "pipeline2.get_params()"
   ]
  },
  {
   "cell_type": "code",
   "execution_count": 25,
   "metadata": {
    "scrolled": true
   },
   "outputs": [
    {
     "name": "stdout",
     "output_type": "stream",
     "text": [
      "Fitting 3 folds for each of 1 candidates, totalling 3 fits\n",
      "[CV] clf__estimator__criterion=gini, clf__estimator__n_estimators=40, features__text_pipeline__vect__ngram_range=(1, 2), features__transformer_weights={'text_pipeline': 1, 'starting_verb': 0.5} \n",
      "[CV]  clf__estimator__criterion=gini, clf__estimator__n_estimators=40, features__text_pipeline__vect__ngram_range=(1, 2), features__transformer_weights={'text_pipeline': 1, 'starting_verb': 0.5}, score=0.5975024015369836, total= 5.9min\n",
      "[CV] clf__estimator__criterion=gini, clf__estimator__n_estimators=40, features__text_pipeline__vect__ngram_range=(1, 2), features__transformer_weights={'text_pipeline': 1, 'starting_verb': 0.5} \n"
     ]
    },
    {
     "name": "stderr",
     "output_type": "stream",
     "text": [
      "[Parallel(n_jobs=-1)]: Done   1 out of   1 | elapsed:  6.9min remaining:    0.0s\n"
     ]
    },
    {
     "name": "stdout",
     "output_type": "stream",
     "text": [
      "[CV]  clf__estimator__criterion=gini, clf__estimator__n_estimators=40, features__text_pipeline__vect__ngram_range=(1, 2), features__transformer_weights={'text_pipeline': 1, 'starting_verb': 0.5}, score=0.6035267677058722, total= 6.1min\n",
      "[CV] clf__estimator__criterion=gini, clf__estimator__n_estimators=40, features__text_pipeline__vect__ngram_range=(1, 2), features__transformer_weights={'text_pipeline': 1, 'starting_verb': 0.5} \n"
     ]
    },
    {
     "name": "stderr",
     "output_type": "stream",
     "text": [
      "[Parallel(n_jobs=-1)]: Done   2 out of   2 | elapsed: 13.9min remaining:    0.0s\n"
     ]
    },
    {
     "name": "stdout",
     "output_type": "stream",
     "text": [
      "[CV]  clf__estimator__criterion=gini, clf__estimator__n_estimators=40, features__text_pipeline__vect__ngram_range=(1, 2), features__transformer_weights={'text_pipeline': 1, 'starting_verb': 0.5}, score=0.6078066382198803, total= 6.0min\n"
     ]
    },
    {
     "name": "stderr",
     "output_type": "stream",
     "text": [
      "[Parallel(n_jobs=-1)]: Done   3 out of   3 | elapsed: 20.8min remaining:    0.0s\n",
      "[Parallel(n_jobs=-1)]: Done   3 out of   3 | elapsed: 20.8min finished\n"
     ]
    },
    {
     "data": {
      "text/plain": [
       "{'clf__estimator__criterion': 'gini',\n",
       " 'clf__estimator__n_estimators': 40,\n",
       " 'features__text_pipeline__vect__ngram_range': (1, 2),\n",
       " 'features__transformer_weights': {'text_pipeline': 1, 'starting_verb': 0.5}}"
      ]
     },
     "execution_count": 25,
     "metadata": {},
     "output_type": "execute_result"
    }
   ],
   "source": [
    "parameters = {'clf__estimator__criterion': ['gini'],\n",
    "              'clf__estimator__n_estimators': [ 40],\n",
    "              'features__text_pipeline__vect__ngram_range' : [(1,2)],\n",
    "             'features__transformer_weights': [\n",
    "            {'text_pipeline': 1, 'starting_verb': 0.5}]}\n",
    "\n",
    "\n",
    "parameters2 = {'clf__estimator__criterion': ['gini','entropy'],\n",
    "              'clf__estimator__n_estimators': [10, 20, 40],\n",
    "              'features__text_pipeline__vect__ngram_range' : ((1,1),(1,2)),\n",
    "             'features__transformer_weights': (\n",
    "            {'text_pipeline': 1, 'starting_verb': 0.5},\n",
    "            {'text_pipeline': 0.5, 'starting_verb': 1},\n",
    "             {'text_pipeline': 1, 'starting_verb': 1})}\n",
    "\n",
    "cv = GridSearchCV(pipeline2, param_grid=parameters, scoring='f1_micro',n_jobs=-1,cv=3,verbose=5)\n",
    "cv.fit(x_train, y_train)\n",
    "\n",
    "cv.best_params_"
   ]
  },
  {
   "cell_type": "markdown",
   "metadata": {},
   "source": [
    "### 7. Test your model\n",
    "Show the accuracy, precision, and recall of the tuned model.  \n",
    "\n",
    "Since this project focuses on code quality, process, and  pipelines, there is no minimum performance metric needed to pass. However, make sure to fine tune your models for accuracy, precision and recall to make your project stand out - especially for your portfolio!"
   ]
  },
  {
   "cell_type": "code",
   "execution_count": 62,
   "metadata": {},
   "outputs": [
    {
     "name": "stdout",
     "output_type": "stream",
     "text": [
      "                  col_name   f1score  precision    recall\n",
      "0                  related  0.880219   0.809144  0.964982\n",
      "1                  request  0.567752   0.872093  0.420875\n",
      "2                    offer  0.000000   0.000000  0.000000\n",
      "3              aid_related  0.665236   0.792839  0.573013\n",
      "4             medical_help  0.105708   0.657895  0.057471\n",
      "5         medical_products  0.131148   0.769231  0.071685\n",
      "6        search_and_rescue  0.095890   0.700000  0.051471\n",
      "7                 security  0.020408   0.500000  0.010417\n",
      "8                 military  0.059524   0.500000  0.031646\n",
      "9              child_alone  0.000000   0.000000  0.000000\n",
      "10                   water  0.413636   0.866667  0.271642\n",
      "11                    food  0.623632   0.863636  0.488014\n",
      "12                 shelter  0.439873   0.847561  0.297009\n",
      "13                clothing  0.258824   0.733333  0.157143\n",
      "14                   money  0.132231   0.888889  0.071429\n",
      "15          missing_people  0.000000   0.000000  0.000000\n",
      "16                refugees  0.056180   0.625000  0.029412\n",
      "17                   death  0.245614   0.921053  0.141700\n",
      "18               other_aid  0.044568   0.615385  0.023121\n",
      "19  infrastructure_related  0.005882   0.250000  0.002976\n",
      "20               transport  0.125000   0.761905  0.068085\n",
      "21               buildings  0.171617   0.764706  0.096654\n",
      "22             electricity  0.066667   0.800000  0.034783\n",
      "23                   tools  0.000000   0.000000  0.000000\n",
      "24               hospitals  0.000000   0.000000  0.000000\n",
      "25                   shops  0.000000   0.000000  0.000000\n",
      "26             aid_centers  0.000000   0.000000  0.000000\n",
      "27    other_infrastructure  0.000000   0.000000  0.000000\n",
      "28         weather_related  0.681986   0.861140  0.564538\n",
      "29                  floods  0.505017   0.904192  0.350348\n",
      "30                   storm  0.509142   0.780172  0.377871\n",
      "31                    fire  0.036364   0.500000  0.018868\n",
      "32              earthquake  0.799571   0.892344  0.724272\n",
      "33                    cold  0.198347   0.705882  0.115385\n",
      "34           other_weather  0.049822   0.500000  0.026217\n",
      "35           direct_report  0.495868   0.814480  0.356436\n"
     ]
    },
    {
     "name": "stderr",
     "output_type": "stream",
     "text": [
      "/opt/conda/lib/python3.6/site-packages/sklearn/metrics/classification.py:1135: UndefinedMetricWarning: F-score is ill-defined and being set to 0.0 due to no predicted samples.\n",
      "  'precision', 'predicted', average, warn_for)\n",
      "/opt/conda/lib/python3.6/site-packages/sklearn/metrics/classification.py:1135: UndefinedMetricWarning: Precision is ill-defined and being set to 0.0 due to no predicted samples.\n",
      "  'precision', 'predicted', average, warn_for)\n"
     ]
    }
   ],
   "source": [
    "y_pred2 = cv.predict(x_test)\n",
    "evaluate(y_test,y_pred2,df)"
   ]
  },
  {
   "cell_type": "markdown",
   "metadata": {},
   "source": [
    "### 8. Try improving your model further. Here are a few ideas:\n",
    "* try other machine learning algorithms\n",
    "* add other features besides the TF-IDF"
   ]
  },
  {
   "cell_type": "code",
   "execution_count": 56,
   "metadata": {},
   "outputs": [],
   "source": [
    "model2 = pipeline.fit(x_train, y_train)\n",
    "\n"
   ]
  },
  {
   "cell_type": "code",
   "execution_count": 57,
   "metadata": {},
   "outputs": [],
   "source": [
    "y_pred = model2.predict(x_test)"
   ]
  },
  {
   "cell_type": "code",
   "execution_count": 63,
   "metadata": {},
   "outputs": [
    {
     "name": "stdout",
     "output_type": "stream",
     "text": [
      "                  col_name   f1score  precision    recall\n",
      "0                  related  0.871112   0.823385  0.924712\n",
      "1                  request  0.490596   0.812987  0.351291\n",
      "2                    offer  0.000000   0.000000  0.000000\n",
      "3              aid_related  0.614415   0.754882  0.518022\n",
      "4             medical_help  0.137500   0.733333  0.075862\n",
      "5         medical_products  0.093960   0.736842  0.050179\n",
      "6        search_and_rescue  0.079470   0.400000  0.044118\n",
      "7                 security  0.000000   0.000000  0.000000\n",
      "8                 military  0.146067   0.650000  0.082278\n",
      "9              child_alone  0.000000   0.000000  0.000000\n",
      "10                   water  0.480519   0.874016  0.331343\n",
      "11                    food  0.414062   0.864130  0.272260\n",
      "12                 shelter  0.320690   0.830357  0.198718\n",
      "13                clothing  0.150000   0.600000  0.085714\n",
      "14                   money  0.068966   1.000000  0.035714\n",
      "15          missing_people  0.030769   0.500000  0.015873\n",
      "16                refugees  0.128342   0.705882  0.070588\n",
      "17                   death  0.201439   0.903226  0.113360\n",
      "18               other_aid  0.069799   0.490566  0.037572\n",
      "19  infrastructure_related  0.000000   0.000000  0.000000\n",
      "20               transport  0.145594   0.730769  0.080851\n",
      "21               buildings  0.147157   0.733333  0.081784\n",
      "22             electricity  0.082645   0.833333  0.043478\n",
      "23                   tools  0.000000   0.000000  0.000000\n",
      "24               hospitals  0.000000   0.000000  0.000000\n",
      "25                   shops  0.000000   0.000000  0.000000\n",
      "26             aid_centers  0.000000   0.000000  0.000000\n",
      "27    other_infrastructure  0.000000   0.000000  0.000000\n",
      "28         weather_related  0.622466   0.822545  0.500679\n",
      "29                  floods  0.391304   0.892562  0.250580\n",
      "30                   storm  0.367089   0.758170  0.242171\n",
      "31                    fire  0.000000   0.000000  0.000000\n",
      "32              earthquake  0.631841   0.878893  0.493204\n",
      "33                    cold  0.170940   0.769231  0.096154\n",
      "34           other_weather  0.036232   0.555556  0.018727\n",
      "35           direct_report  0.423851   0.772251  0.292079\n"
     ]
    },
    {
     "name": "stderr",
     "output_type": "stream",
     "text": [
      "/opt/conda/lib/python3.6/site-packages/sklearn/metrics/classification.py:1135: UndefinedMetricWarning: F-score is ill-defined and being set to 0.0 due to no predicted samples.\n",
      "  'precision', 'predicted', average, warn_for)\n",
      "/opt/conda/lib/python3.6/site-packages/sklearn/metrics/classification.py:1135: UndefinedMetricWarning: Precision is ill-defined and being set to 0.0 due to no predicted samples.\n",
      "  'precision', 'predicted', average, warn_for)\n"
     ]
    }
   ],
   "source": [
    "evaluate(y_test,y_pred,df)"
   ]
  },
  {
   "cell_type": "markdown",
   "metadata": {},
   "source": [
    "### 9. Export your model as a pickle file"
   ]
  },
  {
   "cell_type": "code",
   "execution_count": 26,
   "metadata": {},
   "outputs": [],
   "source": [
    "def save_model(model, model_filepath):\n",
    "    with open(model_filepath, 'wb') as file:\n",
    "        pickle.dump(model, file)\n",
    "        \n",
    "import pickle\n",
    "save_model(cv , 'classifier.pkl')"
   ]
  },
  {
   "cell_type": "markdown",
   "metadata": {},
   "source": [
    "### 10. Use this notebook to complete `train.py`\n",
    "Use the template file attached in the Resources folder to write a script that runs the steps above to create a database and export a model based on a new dataset specified by the user."
   ]
  },
  {
   "cell_type": "code",
   "execution_count": 29,
   "metadata": {},
   "outputs": [],
   "source": []
  },
  {
   "cell_type": "code",
   "execution_count": null,
   "metadata": {},
   "outputs": [],
   "source": []
  }
 ],
 "metadata": {
  "kernelspec": {
   "display_name": "Python 3",
   "language": "python",
   "name": "python3"
  },
  "language_info": {
   "codemirror_mode": {
    "name": "ipython",
    "version": 3
   },
   "file_extension": ".py",
   "mimetype": "text/x-python",
   "name": "python",
   "nbconvert_exporter": "python",
   "pygments_lexer": "ipython3",
   "version": "3.6.3"
  }
 },
 "nbformat": 4,
 "nbformat_minor": 2
}
